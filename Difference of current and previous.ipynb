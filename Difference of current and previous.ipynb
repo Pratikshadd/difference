{
 "cells": [
  {
   "cell_type": "code",
   "execution_count": null,
   "metadata": {},
   "outputs": [],
   "source": [
    "# Calculation E6\n",
    "delta = []\n",
    "for ind,row in df.iterrows() :\n",
    "    if ind == 0 :\n",
    "        delta.append(0)\n",
    "    else :\n",
    "        if str(df.loc[ind-1,'Column_name']) != 'nan' :\n",
    "            delta.append(row['Column_name']-df.loc[ind-1,'Column_name'])\n",
    "        else :\n",
    "            delta.append(row['Column_name'])\n",
    "\n",
    "df['New column name'] = delta\n",
    "df.head()"
   ]
  }
 ],
 "metadata": {
  "kernelspec": {
   "display_name": "Python 3",
   "language": "python",
   "name": "python3"
  },
  "language_info": {
   "codemirror_mode": {
    "name": "ipython",
    "version": 3
   },
   "file_extension": ".py",
   "mimetype": "text/x-python",
   "name": "python",
   "nbconvert_exporter": "python",
   "pygments_lexer": "ipython3",
   "version": "3.6.5"
  }
 },
 "nbformat": 4,
 "nbformat_minor": 2
}
